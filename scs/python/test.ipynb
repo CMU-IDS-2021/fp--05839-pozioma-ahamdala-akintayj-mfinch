{
 "metadata": {
  "orig_nbformat": 2,
  "kernelspec": {
   "name": "fp",
   "display_name": "Python 3.8.8 64-bit ('FP': venv)"
  }
 },
 "nbformat": 4,
 "nbformat_minor": 2,
 "cells": [
  {
   "cell_type": "code",
   "execution_count": null,
   "metadata": {},
   "outputs": [],
   "source": [
    "# https://stackoverflow.com/questions/23887881/how-to-repeat-pandas-data-frame"
   ]
  },
  {
   "cell_type": "code",
   "execution_count": null,
   "metadata": {},
   "outputs": [],
   "source": []
  },
  {
   "cell_type": "code",
   "execution_count": null,
   "metadata": {},
   "outputs": [],
   "source": [
    "# !pip install -r requirements.txt"
   ]
  },
  {
   "cell_type": "code",
   "execution_count": 1,
   "metadata": {},
   "outputs": [
    {
     "output_type": "execute_result",
     "data": {
      "text/plain": [
       "RendererRegistry.enable('default')"
      ]
     },
     "metadata": {},
     "execution_count": 1
    }
   ],
   "source": [
    "import os \n",
    "from fnmatch import fnmatch\n",
    "import pandas as pd\n",
    "import altair as alt\n",
    "import streamlit as st\n",
    "import numpy as np\n",
    "import matplotlib.pyplot as plt\n",
    "from vega_datasets import data\n",
    "\n",
    "alt.renderers.enable('default')"
   ]
  },
  {
   "cell_type": "code",
   "execution_count": 2,
   "metadata": {},
   "outputs": [],
   "source": [
    "##\n",
    "# \n",
    "##\n",
    "def find_data(pattern= \"*.csv\", root = os.getcwd()):\n",
    "    filenames = list()\n",
    "\n",
    "    for path, subdirs, files in os.walk(root):\n",
    "        for name in files:\n",
    "            if fnmatch(name, pattern):\n",
    "                filenames.append(os.path.join(path,name))\n",
    "    \n",
    "    if not filenames:\n",
    "        print(\"No files found\")\n",
    "        return \n",
    "    else:\n",
    "        return filenames"
   ]
  },
  {
   "cell_type": "code",
   "execution_count": 3,
   "metadata": {},
   "outputs": [
    {
     "output_type": "execute_result",
     "data": {
      "text/plain": [
       "'c:\\\\Users\\\\Michael\\\\Desktop\\\\CMU\\\\CMU Classwork\\\\Spring 2021\\\\839\\\\Final Project\\\\Final_Project_code\\\\fp--05839-pozioma-ahamdala-akintayj-mfinch\\\\scs\\\\python\\\\data\\\\mrc_table3.csv'"
      ]
     },
     "metadata": {},
     "execution_count": 3
    }
   ],
   "source": [
    "data_list = find_data()\n",
    "data_list[3]"
   ]
  },
  {
   "cell_type": "code",
   "execution_count": 4,
   "metadata": {},
   "outputs": [],
   "source": [
    "df1 = pd.read_csv(data_list[0])\n",
    "df2 = pd.read_csv(data_list[2])\n",
    "df3 = pd.read_csv(data_list[3])"
   ]
  },
  {
   "cell_type": "code",
   "execution_count": 5,
   "metadata": {},
   "outputs": [],
   "source": [
    "def Mag_dis(MR):\n",
    "    p_p = np.sum(MR,axis = 0)\n",
    "    p_k = np.sum(MR, axis = 1)\n",
    "    return p_p, p_k\n",
    "\n",
    "def Correlation(MR):\n",
    "    s = MR.shape\n",
    "    p = np.array(list(range(s[1]))) + 1   \n",
    "    k = np.array(list(range(s[0]))) + 1 \n",
    "    p_p, p_k = Mag_dis(MR)\n",
    "\n",
    "    up = p@p_p\n",
    "    up2 = (p*p)@p_p\n",
    "    uk = k@p_k\n",
    "    uk2 = (k*k)@p_k\n",
    "    upk = ((k[:,None]@(p[:,None]).T)*MR).sum()\n",
    "\n",
    "    sk2 = uk2 - uk*uk\n",
    "    sp2 = up2 - up*up\n",
    "    skp = upk - up*uk\n",
    "    rkp = skp/np.sqrt(sk2*sp2)\n",
    "   \n",
    "    return np.array([[sk2, skp],[skp, sp2]]), np.array([[1, rkp],[rkp, 1]])\n",
    "\n",
    "# def Mutual_info(MR):\n",
    "#     p_p, p_k = Mag_dis(MR)\n",
    "    \n",
    "#     I = MR*(np.log2(MR/(p_p*p_k)))\n",
    "\n",
    "#     return I.sum()\n",
    "\n",
    "\n"
   ]
  },
  {
   "cell_type": "code",
   "execution_count": null,
   "metadata": {},
   "outputs": [],
   "source": []
  },
  {
   "cell_type": "code",
   "execution_count": null,
   "metadata": {},
   "outputs": [],
   "source": [
    "# https://stackoverflow.com/questions/17071871/how-to-select-rows-from-a-dataframe-based-on-column-values"
   ]
  },
  {
   "cell_type": "code",
   "execution_count": 6,
   "metadata": {
    "tags": []
   },
   "outputs": [],
   "source": [
    "def university_df(df, univ):\n",
    "    return df.loc[df['name'] == univ]\n",
    "\n",
    "def MR_df(dfu):\n",
    "    \n",
    "    Mobility_rate = np.zeros([5,5])\n",
    "\n",
    "    for p in range(0,5):\n",
    "        for k in range(0,5):\n",
    "            cond_str = \"kq{}_cond_parq{}\".format(k+1,p+1)\n",
    "            par_str = \"par_q{}\".format(p+1)\n",
    "            MR_temp = (dfu[par_str]*dfu[cond_str])\n",
    "            Mobility_rate[k,p] = MR_temp\n",
    "            \n",
    "    return Mobility_rate\n",
    "\n",
    "\n"
   ]
  },
  {
   "cell_type": "code",
   "execution_count": 7,
   "metadata": {},
   "outputs": [],
   "source": [
    "k, p = np.meshgrid(range(1,6), range(1,6)) \n",
    "cmu =  \"Carnegie Mellon University\"\n",
    "fcc = \"Frederick Community College\"\n",
    "fit = \"Florida Institute Of Technology\"\n",
    "mit = \"Massachusetts Institute Of Technology\"\n",
    "UMD = \"University Of Maryland System (Except University College) And Baltimore City Community College\"\n",
    "HU = \"Howard University\"\n",
    "df_cmu = university_df(df3, cmu)\n",
    "df_cmu = df_cmu.reset_index() \n"
   ]
  },
  {
   "cell_type": "code",
   "execution_count": 8,
   "metadata": {
    "tags": []
   },
   "outputs": [],
   "source": [
    "df_cmu[\"MR\"] = df_cmu.apply(MR_df, axis=1)\n",
    "df_cmu[\"corr\"] = df_cmu.apply(lambda row: Correlation(row[\"MR\"]), axis=1)\n",
    "df_cmu[\"Mag\"] = df_cmu.apply(lambda row: Mag_dis(row[\"MR\"]), axis=1)\n",
    "df_cmu1 = df_cmu[[\"cohort\",\"MR\"]]\n",
    "df_cmu2 = df_cmu[[\"cohort\",\"Mag\"]]"
   ]
  },
  {
   "cell_type": "code",
   "execution_count": null,
   "metadata": {},
   "outputs": [],
   "source": [
    "# https://medium.com/swlh/a-deep-conceptual-guide-to-mutual-information-a5021031fad0"
   ]
  },
  {
   "cell_type": "code",
   "execution_count": 9,
   "metadata": {},
   "outputs": [],
   "source": [
    "def Norm_Mutual_Info(MR):\n",
    "    \n",
    "    p_p, p_k = Mag_dis(MR)\n",
    "\n",
    "    Hp = -1*p_p*np.log2(p_p) \n",
    "    Hk = -1*p_k*np.log2(p_k)\n",
    "    Hpk = -1*MR*np.log2(MR)\n",
    "    I = Hk.sum() + Hp.sum() - Hpk.sum() \n",
    "    return (2*I)/(Hp.sum()+Hk.sum()) \n",
    "\n",
    "def Jaccard_dis(MR):\n",
    "    I = Mutual_info(MR)\n",
    "    Hpk = -1*MR*np.log2(MR)\n",
    "    \n",
    "    return  1 - I/Hpk.sum()\n",
    "    \n",
    "def K_L_div(MR):\n",
    "    p_p, p_k = Mag_dis(MR)\n",
    "\n",
    "    Dkl = p_p*np.log2(p_p/p_k)\n",
    "\n",
    "    return Dkl.sum()\n",
    "\n",
    "def skewness(MR):\n",
    "    p_p, p_k = Mag_dis(MR)\n",
    "    T1 = 0.5*(p_p[-1]+p_p[0]) \n",
    "    T2 = (p_p[-1]-p_p[0])\n",
    "    T3 = 0.5*(p_p[-2]+p_p[1]) \n",
    "    T4 = (p_p[-2]-p_p[1])\n",
    "    \n",
    "    return (1/3)*(list(range(1,6))*p_p).sum()-1\n"
   ]
  },
  {
   "cell_type": "code",
   "execution_count": 10,
   "metadata": {},
   "outputs": [
    {
     "output_type": "stream",
     "name": "stdout",
     "text": [
      "0     0.407745\n1     0.413146\n2     0.433093\n3     0.428281\n4     0.413356\n5     0.420920\n6     0.423880\n7     0.422973\n8     0.414635\n9     0.459321\n10    0.452633\n11    0.447534\nName: MR, dtype: float64\n"
     ]
    }
   ],
   "source": [
    "# print(df_cmu1.head(5))\n",
    "\n",
    "# (1/3)*( np.array([0.29421377, 0.20919478,  0.22377882, 0.16188636,  0.11092634])*list(range(1,6)) ).sum() - 1\n",
    "\n",
    "print(df_cmu1[\"MR\"].apply(skewness))\n",
    "\n",
    "\n"
   ]
  },
  {
   "cell_type": "code",
   "execution_count": null,
   "metadata": {},
   "outputs": [],
   "source": []
  },
  {
   "cell_type": "code",
   "execution_count": 11,
   "metadata": {},
   "outputs": [],
   "source": [
    "# def data_plot(r1):\n",
    "#     rtemp = r1[\"MR\"].ravel()\n",
    "#     k, p = np.meshgrid(range(1,6), range(1,6))  \n",
    "#     plot_df = pd.DataFrame({\"k\":k.ravel(), \"p\":p.ravel(), \"MR\":rtemp, \"cohort\":r1[\"cohort\"]})\n",
    "    \n",
    "#     chart = alt.Chart(plot_df).mark_rect().encode(\n",
    "#         column = \"cohort:O\",\n",
    "#         x='p:O',\n",
    "#         y=alt.Y('k:O',\n",
    "#         sort=alt.EncodingSortField('k', order='descending')),\n",
    "#         # color = \"MR:Q\"\n",
    "#     )\n",
    "\n",
    "#     return chart\n",
    "\n",
    "def gen_plot_df(r1):\n",
    "\n",
    "    rtemp = r1[\"MR\"].ravel()\n",
    "    k, p = np.meshgrid(range(1,6), range(1,6))  \n",
    "    plot_df = pd.DataFrame({\"k\":k.ravel(), \"p\":p.ravel(), \"MR\":rtemp, \"cohort\":r1[\"cohort\"]})\n",
    "    return plot_df\n",
    "\n",
    "def gen_plot_mag(r1):\n",
    "\n",
    "    mag_p = r1['Mag'][0].ravel()\n",
    "    mag_k = r1['Mag'][1].ravel()\n",
    "    k, p = list(range(1,6)), list(range(1,6)) \n",
    "    plot_df = pd.DataFrame({\"k\":k,'Mag_k':mag_k,\"p\":p,'Mag_p':mag_p, \"cohort\":r1[\"cohort\"]})\n",
    "        \n",
    "    return plot_df\n"
   ]
  },
  {
   "cell_type": "code",
   "execution_count": 12,
   "metadata": {},
   "outputs": [],
   "source": [
    "year = 2\n",
    "source = gen_plot_df(df_cmu1.iloc[year])\n",
    "source1 = gen_plot_mag(df_cmu2.iloc[year])\n",
    "\n"
   ]
  },
  {
   "cell_type": "code",
   "execution_count": null,
   "metadata": {},
   "outputs": [],
   "source": []
  },
  {
   "cell_type": "code",
   "execution_count": 158,
   "metadata": {},
   "outputs": [
    {
     "output_type": "execute_result",
     "data": {
      "text/plain": [
       "    p  k        MR  cohort  type  MR_abs\n",
       "0   1  2  0.080510    1982   pos    8.05\n",
       "1   2  3  0.063311    1982   pos    6.33\n",
       "2   3  4  0.070316    1982   pos    7.03\n",
       "3   4  5  0.080881    1982   pos    8.09\n",
       "4   1  2  0.004342    1982  same    0.43\n",
       "5   2  3  0.006517    1982  same    0.65\n",
       "6   3  4  0.006236    1982  same    0.62\n",
       "7   4  5  0.019283    1982  same    1.93\n",
       "8   5  1  0.420648    1982  same   42.06\n",
       "9   2  3 -0.003479    1982   neg    0.35\n",
       "10  3  4 -0.014732    1982   neg    1.47\n",
       "11  4  5 -0.028038    1982   neg    2.80\n",
       "12  5  1 -0.201706    1982   neg   20.17"
      ],
      "text/html": "<div>\n<style scoped>\n    .dataframe tbody tr th:only-of-type {\n        vertical-align: middle;\n    }\n\n    .dataframe tbody tr th {\n        vertical-align: top;\n    }\n\n    .dataframe thead th {\n        text-align: right;\n    }\n</style>\n<table border=\"1\" class=\"dataframe\">\n  <thead>\n    <tr style=\"text-align: right;\">\n      <th></th>\n      <th>p</th>\n      <th>k</th>\n      <th>MR</th>\n      <th>cohort</th>\n      <th>type</th>\n      <th>MR_abs</th>\n    </tr>\n  </thead>\n  <tbody>\n    <tr>\n      <th>0</th>\n      <td>1</td>\n      <td>2</td>\n      <td>0.080510</td>\n      <td>1982</td>\n      <td>pos</td>\n      <td>8.05</td>\n    </tr>\n    <tr>\n      <th>1</th>\n      <td>2</td>\n      <td>3</td>\n      <td>0.063311</td>\n      <td>1982</td>\n      <td>pos</td>\n      <td>6.33</td>\n    </tr>\n    <tr>\n      <th>2</th>\n      <td>3</td>\n      <td>4</td>\n      <td>0.070316</td>\n      <td>1982</td>\n      <td>pos</td>\n      <td>7.03</td>\n    </tr>\n    <tr>\n      <th>3</th>\n      <td>4</td>\n      <td>5</td>\n      <td>0.080881</td>\n      <td>1982</td>\n      <td>pos</td>\n      <td>8.09</td>\n    </tr>\n    <tr>\n      <th>4</th>\n      <td>1</td>\n      <td>2</td>\n      <td>0.004342</td>\n      <td>1982</td>\n      <td>same</td>\n      <td>0.43</td>\n    </tr>\n    <tr>\n      <th>5</th>\n      <td>2</td>\n      <td>3</td>\n      <td>0.006517</td>\n      <td>1982</td>\n      <td>same</td>\n      <td>0.65</td>\n    </tr>\n    <tr>\n      <th>6</th>\n      <td>3</td>\n      <td>4</td>\n      <td>0.006236</td>\n      <td>1982</td>\n      <td>same</td>\n      <td>0.62</td>\n    </tr>\n    <tr>\n      <th>7</th>\n      <td>4</td>\n      <td>5</td>\n      <td>0.019283</td>\n      <td>1982</td>\n      <td>same</td>\n      <td>1.93</td>\n    </tr>\n    <tr>\n      <th>8</th>\n      <td>5</td>\n      <td>1</td>\n      <td>0.420648</td>\n      <td>1982</td>\n      <td>same</td>\n      <td>42.06</td>\n    </tr>\n    <tr>\n      <th>9</th>\n      <td>2</td>\n      <td>3</td>\n      <td>-0.003479</td>\n      <td>1982</td>\n      <td>neg</td>\n      <td>0.35</td>\n    </tr>\n    <tr>\n      <th>10</th>\n      <td>3</td>\n      <td>4</td>\n      <td>-0.014732</td>\n      <td>1982</td>\n      <td>neg</td>\n      <td>1.47</td>\n    </tr>\n    <tr>\n      <th>11</th>\n      <td>4</td>\n      <td>5</td>\n      <td>-0.028038</td>\n      <td>1982</td>\n      <td>neg</td>\n      <td>2.80</td>\n    </tr>\n    <tr>\n      <th>12</th>\n      <td>5</td>\n      <td>1</td>\n      <td>-0.201706</td>\n      <td>1982</td>\n      <td>neg</td>\n      <td>20.17</td>\n    </tr>\n  </tbody>\n</table>\n</div>"
     },
     "metadata": {},
     "execution_count": 158
    }
   ],
   "source": [
    "s1 = source[source[\"k\"]>source[\"p\"]]\n",
    "s1 = s1.groupby(['p']).sum()\n",
    "s1['cohort'] = source['cohort']\n",
    "s1['k'] = source['k']\n",
    "\n",
    "s2 = source[source[\"k\"]==source[\"p\"]]\n",
    "s2 = s2.groupby(['p']).sum()\n",
    "s2['cohort'] = source['cohort']\n",
    "s2['k'] = source['k']\n",
    "\n",
    "s3 = source[source[\"k\"]<source[\"p\"]]\n",
    "s3 = -1*s3.groupby(['p']).sum()\n",
    "s3['cohort'] = source['cohort']\n",
    "s3['k'] = source['k']\n",
    "\n",
    "s1[\"type\"] = \"pos\"\n",
    "s2[\"type\"] = \"same\"\n",
    "s3[\"type\"] = \"neg\"\n",
    "\n",
    "s = pd.concat([s1,s2,s3])\n",
    "s = s.reset_index()\n",
    "s['MR_abs']= round(abs(s['MR'])*100,2)\n",
    "s\n"
   ]
  },
  {
   "cell_type": "code",
   "execution_count": 159,
   "metadata": {},
   "outputs": [
    {
     "output_type": "execute_result",
     "data": {
      "text/html": "\n<div id=\"altair-viz-0713ff61dc084b2eb95709c488d54fa4\"></div>\n<script type=\"text/javascript\">\n  (function(spec, embedOpt){\n    let outputDiv = document.currentScript.previousElementSibling;\n    if (outputDiv.id !== \"altair-viz-0713ff61dc084b2eb95709c488d54fa4\") {\n      outputDiv = document.getElementById(\"altair-viz-0713ff61dc084b2eb95709c488d54fa4\");\n    }\n    const paths = {\n      \"vega\": \"https://cdn.jsdelivr.net/npm//vega@5?noext\",\n      \"vega-lib\": \"https://cdn.jsdelivr.net/npm//vega-lib?noext\",\n      \"vega-lite\": \"https://cdn.jsdelivr.net/npm//vega-lite@4.8.1?noext\",\n      \"vega-embed\": \"https://cdn.jsdelivr.net/npm//vega-embed@6?noext\",\n    };\n\n    function loadScript(lib) {\n      return new Promise(function(resolve, reject) {\n        var s = document.createElement('script');\n        s.src = paths[lib];\n        s.async = true;\n        s.onload = () => resolve(paths[lib]);\n        s.onerror = () => reject(`Error loading script: ${paths[lib]}`);\n        document.getElementsByTagName(\"head\")[0].appendChild(s);\n      });\n    }\n\n    function showError(err) {\n      outputDiv.innerHTML = `<div class=\"error\" style=\"color:red;\">${err}</div>`;\n      throw err;\n    }\n\n    function displayChart(vegaEmbed) {\n      vegaEmbed(outputDiv, spec, embedOpt)\n        .catch(err => showError(`Javascript Error: ${err.message}<br>This usually means there's a typo in your chart specification. See the javascript console for the full traceback.`));\n    }\n\n    if(typeof define === \"function\" && define.amd) {\n      requirejs.config({paths});\n      require([\"vega-embed\"], displayChart, err => showError(`Error loading script: ${err.message}`));\n    } else if (typeof vegaEmbed === \"function\") {\n      displayChart(vegaEmbed);\n    } else {\n      loadScript(\"vega\")\n        .then(() => loadScript(\"vega-lite\"))\n        .then(() => loadScript(\"vega-embed\"))\n        .catch(showError)\n        .then(() => displayChart(vegaEmbed));\n    }\n  })({\"config\": {\"view\": {\"continuousWidth\": 400, \"continuousHeight\": 300}}, \"data\": {\"name\": \"data-19c2f7a626ee57617f709b8541be2e09\"}, \"mark\": \"bar\", \"encoding\": {\"color\": {\"type\": \"nominal\", \"field\": \"type\", \"scale\": {\"domain\": [\"pos\", \"same\", \"neg\"], \"range\": [\"green\", \"orange\", \"red\"]}}, \"column\": {\"type\": \"quantitative\", \"field\": \"cohort\"}, \"tooltip\": [{\"type\": \"quantitative\", \"aggregate\": \"sum\", \"field\": \"MR_abs\"}, {\"type\": \"quantitative\", \"field\": \"p\"}], \"x\": {\"type\": \"quantitative\", \"aggregate\": \"sum\", \"field\": \"MR\"}}, \"$schema\": \"https://vega.github.io/schema/vega-lite/v4.8.1.json\", \"datasets\": {\"data-19c2f7a626ee57617f709b8541be2e09\": [{\"p\": 1, \"k\": 2, \"MR\": 0.08051044606170818, \"cohort\": 1982, \"type\": \"pos\", \"MR_abs\": 8.05}, {\"p\": 2, \"k\": 3, \"MR\": 0.06331108416823006, \"cohort\": 1982, \"type\": \"pos\", \"MR_abs\": 6.33}, {\"p\": 3, \"k\": 4, \"MR\": 0.07031573745133095, \"cohort\": 1982, \"type\": \"pos\", \"MR_abs\": 7.03}, {\"p\": 4, \"k\": 5, \"MR\": 0.08088072784681889, \"cohort\": 1982, \"type\": \"pos\", \"MR_abs\": 8.09}, {\"p\": 1, \"k\": 2, \"MR\": 0.004341502396137, \"cohort\": 1982, \"type\": \"same\", \"MR_abs\": 0.43}, {\"p\": 2, \"k\": 3, \"MR\": 0.006517197611526, \"cohort\": 1982, \"type\": \"same\", \"MR_abs\": 0.65}, {\"p\": 3, \"k\": 4, \"MR\": 0.006236492879550181, \"cohort\": 1982, \"type\": \"same\", \"MR_abs\": 0.62}, {\"p\": 4, \"k\": 5, \"MR\": 0.019282911575161103, \"cohort\": 1982, \"type\": \"same\", \"MR_abs\": 1.93}, {\"p\": 5, \"k\": 1, \"MR\": 0.42064827344684425, \"cohort\": 1982, \"type\": \"same\", \"MR_abs\": 42.06}, {\"p\": 2, \"k\": 3, \"MR\": -0.00347937190204656, \"cohort\": 1982, \"type\": \"neg\", \"MR_abs\": 0.35}, {\"p\": 3, \"k\": 4, \"MR\": -0.01473236982613983, \"cohort\": 1982, \"type\": \"neg\", \"MR_abs\": 1.47}, {\"p\": 4, \"k\": 5, \"MR\": -0.028037780316226838, \"cohort\": 1982, \"type\": \"neg\", \"MR_abs\": 2.8}, {\"p\": 5, \"k\": 1, \"MR\": -0.20170603618160707, \"cohort\": 1982, \"type\": \"neg\", \"MR_abs\": 20.17}]}}, {\"mode\": \"vega-lite\"});\n</script>",
      "text/plain": [
       "alt.Chart(...)"
      ]
     },
     "metadata": {},
     "execution_count": 159
    }
   ],
   "source": [
    "\n",
    "\n",
    "color_scale = alt.Scale(\n",
    "    domain=[\"pos\",\"same\",\"neg\"],\n",
    "    range=[\"green\",\"orange\",\"red\"]\n",
    ")\n",
    "\n",
    "color_scale1 = alt.Scale(\n",
    "    range=[\"greens\",\"oranges\",\"reds\"]\n",
    ")\n",
    "\n",
    "bar_chart = alt.Chart(s).mark_bar().encode(\n",
    "    column = \"cohort\",\n",
    "    x = \"sum(MR):Q\",\n",
    "    color = alt.Color('type:N',scale=color_scale),\n",
    "    tooltip=[alt.Tooltip(\"sum(MR_abs)\"),alt.Tooltip('p')]\n",
    ")\n",
    "\n",
    "\n",
    "\n",
    "bar_chart"
   ]
  },
  {
   "cell_type": "code",
   "execution_count": null,
   "metadata": {},
   "outputs": [],
   "source": []
  },
  {
   "cell_type": "code",
   "execution_count": 102,
   "metadata": {},
   "outputs": [],
   "source": [
    "d_plus = alt.Chart(source[source[\"k\"]>source[\"p\"]]).mark_bar().encode(\n",
    "    column = \"cohort\",\n",
    "    x = alt.X('sum(MR):Q', scale=alt.Scale(domain=(0,1))),\n",
    "    color = alt.Color('p:O', \n",
    "        scale=alt.Scale(\n",
    "            scheme=\"greens\",domain=(list(range(1,6)))\n",
    "            ))\n",
    "    )\n",
    "\n",
    "d_same = alt.Chart(source[source[\"k\"]==source[\"p\"]]).mark_bar().encode(\n",
    "    column = \"cohort\",\n",
    "    x = alt.X('sum(MR):Q', scale=alt.Scale(domain=(0,1))),\n",
    "    color = alt.Color('p:O', \n",
    "        scale=alt.Scale(\n",
    "            scheme=\"oranges\",domain=(list(range(1,6)))\n",
    "            ))\n",
    "    )\n",
    "\n"
   ]
  },
  {
   "cell_type": "code",
   "execution_count": null,
   "metadata": {},
   "outputs": [],
   "source": []
  },
  {
   "cell_type": "code",
   "execution_count": 56,
   "metadata": {},
   "outputs": [
    {
     "output_type": "execute_result",
     "data": {
      "text/html": "\n<div id=\"altair-viz-66f2aa2db14a471eb27fc446fec668e6\"></div>\n<script type=\"text/javascript\">\n  (function(spec, embedOpt){\n    let outputDiv = document.currentScript.previousElementSibling;\n    if (outputDiv.id !== \"altair-viz-66f2aa2db14a471eb27fc446fec668e6\") {\n      outputDiv = document.getElementById(\"altair-viz-66f2aa2db14a471eb27fc446fec668e6\");\n    }\n    const paths = {\n      \"vega\": \"https://cdn.jsdelivr.net/npm//vega@5?noext\",\n      \"vega-lib\": \"https://cdn.jsdelivr.net/npm//vega-lib?noext\",\n      \"vega-lite\": \"https://cdn.jsdelivr.net/npm//vega-lite@4.8.1?noext\",\n      \"vega-embed\": \"https://cdn.jsdelivr.net/npm//vega-embed@6?noext\",\n    };\n\n    function loadScript(lib) {\n      return new Promise(function(resolve, reject) {\n        var s = document.createElement('script');\n        s.src = paths[lib];\n        s.async = true;\n        s.onload = () => resolve(paths[lib]);\n        s.onerror = () => reject(`Error loading script: ${paths[lib]}`);\n        document.getElementsByTagName(\"head\")[0].appendChild(s);\n      });\n    }\n\n    function showError(err) {\n      outputDiv.innerHTML = `<div class=\"error\" style=\"color:red;\">${err}</div>`;\n      throw err;\n    }\n\n    function displayChart(vegaEmbed) {\n      vegaEmbed(outputDiv, spec, embedOpt)\n        .catch(err => showError(`Javascript Error: ${err.message}<br>This usually means there's a typo in your chart specification. See the javascript console for the full traceback.`));\n    }\n\n    if(typeof define === \"function\" && define.amd) {\n      requirejs.config({paths});\n      require([\"vega-embed\"], displayChart, err => showError(`Error loading script: ${err.message}`));\n    } else if (typeof vegaEmbed === \"function\") {\n      displayChart(vegaEmbed);\n    } else {\n      loadScript(\"vega\")\n        .then(() => loadScript(\"vega-lite\"))\n        .then(() => loadScript(\"vega-embed\"))\n        .catch(showError)\n        .then(() => displayChart(vegaEmbed));\n    }\n  })({\"config\": {\"view\": {\"continuousWidth\": 400, \"continuousHeight\": 300}}, \"data\": {\"name\": \"data-e0cd2e81e599f1705cac46726b76be80\"}, \"mark\": \"bar\", \"encoding\": {\"color\": {\"type\": \"ordinal\", \"field\": \"p\", \"scale\": {\"domain\": [1, 2, 3, 4, 5], \"scheme\": \"greens\"}}, \"column\": {\"type\": \"quantitative\", \"field\": \"cohort\"}, \"x\": {\"type\": \"ordinal\", \"field\": \"k\", \"scale\": {\"domain\": [1, 2, 3, 4, 5]}}, \"y\": {\"type\": \"quantitative\", \"aggregate\": \"sum\", \"field\": \"MR\", \"scale\": {\"domain\": [0, 1]}}}, \"$schema\": \"https://vega.github.io/schema/vega-lite/v4.8.1.json\", \"datasets\": {\"data-e0cd2e81e599f1705cac46726b76be80\": [{\"k\": 2, \"p\": 1, \"MR\": 0.00653028320385, \"cohort\": 1982}, {\"k\": 3, \"p\": 1, \"MR\": 0.008649408620279284, \"cohort\": 1982}, {\"k\": 4, \"p\": 1, \"MR\": 0.015070188771721001, \"cohort\": 1982}, {\"k\": 5, \"p\": 1, \"MR\": 0.05026056546585789, \"cohort\": 1982}, {\"k\": 3, \"p\": 2, \"MR\": 0.011608381276127221, \"cohort\": 1982}, {\"k\": 4, \"p\": 2, \"MR\": 0.012992944206503413, \"cohort\": 1982}, {\"k\": 5, \"p\": 2, \"MR\": 0.03870975868559943, \"cohort\": 1982}, {\"k\": 4, \"p\": 3, \"MR\": 0.00890240940356211, \"cohort\": 1982}, {\"k\": 5, \"p\": 3, \"MR\": 0.061413328047768834, \"cohort\": 1982}, {\"k\": 5, \"p\": 4, \"MR\": 0.08088072784681889, \"cohort\": 1982}]}}, {\"mode\": \"vega-lite\"});\n</script>",
      "text/plain": [
       "alt.Chart(...)"
      ]
     },
     "metadata": {},
     "execution_count": 56
    }
   ],
   "source": [
    "\n",
    "d_plus = alt.Chart(source[source[\"k\"]>source[\"p\"]]).mark_bar().encode(\n",
    "    column = \"cohort\",\n",
    "    x = alt.X(\"k:O\", scale=alt.Scale(domain=(list(range(1,6)))) ),\n",
    "    y = alt.Y('sum(MR):Q', scale=alt.Scale(domain=(0,1))),\n",
    "    color = alt.Color('p:O', \n",
    "        scale=alt.Scale(\n",
    "            scheme=\"greens\",domain=(list(range(1,6)))\n",
    "            ))\n",
    "    )\n",
    "\n",
    "d_same = alt.Chart(source[source[\"k\"]==source[\"p\"]]).mark_bar().encode(\n",
    "    column = \"cohort\",\n",
    "    x = alt.X(\"k:O\", scale=alt.Scale(domain=(list(range(1,6)))) ),\n",
    "    y = alt.Y('sum(MR):Q', scale=alt.Scale(domain=(0,1))),\n",
    "    color = alt.Color('p:O', \n",
    "        scale=alt.Scale(\n",
    "            scheme=\"oranges\",domain=(list(range(1,6)))\n",
    "            ))\n",
    "    )\n",
    "\n",
    "d_min = alt.Chart(source[source[\"k\"] < source[\"p\"]]).mark_bar().encode(\n",
    "    column = \"cohort\",\n",
    "    x = alt.X(\"k:O\", scale=alt.Scale(domain=(list(range(1,6)))) ),\n",
    "    y = alt.Y('sum(MR):Q', scale=alt.Scale(domain=(0,1))),\n",
    "    color = alt.Color('p:O', \n",
    "        scale=alt.Scale(\n",
    "            scheme=\"reds\",domain=(list(range(1,6)))\n",
    "            ))\n",
    "    )\n",
    "\n",
    "d_plus"
   ]
  },
  {
   "cell_type": "code",
   "execution_count": null,
   "metadata": {},
   "outputs": [],
   "source": []
  },
  {
   "cell_type": "code",
   "execution_count": 13,
   "metadata": {},
   "outputs": [
    {
     "output_type": "execute_result",
     "data": {
      "text/html": "\n<div id=\"altair-viz-eb679b42c9504061abb8b9116d527fba\"></div>\n<script type=\"text/javascript\">\n  (function(spec, embedOpt){\n    let outputDiv = document.currentScript.previousElementSibling;\n    if (outputDiv.id !== \"altair-viz-eb679b42c9504061abb8b9116d527fba\") {\n      outputDiv = document.getElementById(\"altair-viz-eb679b42c9504061abb8b9116d527fba\");\n    }\n    const paths = {\n      \"vega\": \"https://cdn.jsdelivr.net/npm//vega@5?noext\",\n      \"vega-lib\": \"https://cdn.jsdelivr.net/npm//vega-lib?noext\",\n      \"vega-lite\": \"https://cdn.jsdelivr.net/npm//vega-lite@4.8.1?noext\",\n      \"vega-embed\": \"https://cdn.jsdelivr.net/npm//vega-embed@6?noext\",\n    };\n\n    function loadScript(lib) {\n      return new Promise(function(resolve, reject) {\n        var s = document.createElement('script');\n        s.src = paths[lib];\n        s.async = true;\n        s.onload = () => resolve(paths[lib]);\n        s.onerror = () => reject(`Error loading script: ${paths[lib]}`);\n        document.getElementsByTagName(\"head\")[0].appendChild(s);\n      });\n    }\n\n    function showError(err) {\n      outputDiv.innerHTML = `<div class=\"error\" style=\"color:red;\">${err}</div>`;\n      throw err;\n    }\n\n    function displayChart(vegaEmbed) {\n      vegaEmbed(outputDiv, spec, embedOpt)\n        .catch(err => showError(`Javascript Error: ${err.message}<br>This usually means there's a typo in your chart specification. See the javascript console for the full traceback.`));\n    }\n\n    if(typeof define === \"function\" && define.amd) {\n      requirejs.config({paths});\n      require([\"vega-embed\"], displayChart, err => showError(`Error loading script: ${err.message}`));\n    } else if (typeof vegaEmbed === \"function\") {\n      displayChart(vegaEmbed);\n    } else {\n      loadScript(\"vega\")\n        .then(() => loadScript(\"vega-lite\"))\n        .then(() => loadScript(\"vega-embed\"))\n        .catch(showError)\n        .then(() => displayChart(vegaEmbed));\n    }\n  })({\"config\": {\"view\": {\"continuousWidth\": 400, \"continuousHeight\": 300}}, \"data\": {\"name\": \"data-4fc4c26f76eee94bfb2c45aede6c6bcc\"}, \"mark\": \"bar\", \"encoding\": {\"color\": {\"type\": \"ordinal\", \"field\": \"p\", \"scale\": {\"scheme\": \"tableau10\"}}, \"column\": {\"type\": \"quantitative\", \"field\": \"cohort\"}, \"x\": {\"type\": \"ordinal\", \"field\": \"k\"}, \"y\": {\"type\": \"quantitative\", \"aggregate\": \"sum\", \"field\": \"MR\", \"scale\": {\"domain\": [0, 1]}}}, \"$schema\": \"https://vega.github.io/schema/vega-lite/v4.8.1.json\", \"datasets\": {\"data-4fc4c26f76eee94bfb2c45aede6c6bcc\": [{\"k\": 1, \"p\": 1, \"MR\": 0.004341502396137, \"cohort\": 1982}, {\"k\": 2, \"p\": 1, \"MR\": 0.00653028320385, \"cohort\": 1982}, {\"k\": 3, \"p\": 1, \"MR\": 0.008649408620279284, \"cohort\": 1982}, {\"k\": 4, \"p\": 1, \"MR\": 0.015070188771721001, \"cohort\": 1982}, {\"k\": 5, \"p\": 1, \"MR\": 0.05026056546585789, \"cohort\": 1982}, {\"k\": 1, \"p\": 2, \"MR\": 0.00347937190204656, \"cohort\": 1982}, {\"k\": 2, \"p\": 2, \"MR\": 0.006517197611526, \"cohort\": 1982}, {\"k\": 3, \"p\": 2, \"MR\": 0.011608381276127221, \"cohort\": 1982}, {\"k\": 4, \"p\": 2, \"MR\": 0.012992944206503413, \"cohort\": 1982}, {\"k\": 5, \"p\": 2, \"MR\": 0.03870975868559943, \"cohort\": 1982}, {\"k\": 1, \"p\": 3, \"MR\": 0.001256013344054832, \"cohort\": 1982}, {\"k\": 2, \"p\": 3, \"MR\": 0.013476356482084999, \"cohort\": 1982}, {\"k\": 3, \"p\": 3, \"MR\": 0.006236492879550181, \"cohort\": 1982}, {\"k\": 4, \"p\": 3, \"MR\": 0.00890240940356211, \"cohort\": 1982}, {\"k\": 5, \"p\": 3, \"MR\": 0.061413328047768834, \"cohort\": 1982}, {\"k\": 1, \"p\": 4, \"MR\": 0.007493696018243039, \"cohort\": 1982}, {\"k\": 2, \"p\": 4, \"MR\": 0.011048361828664999, \"cohort\": 1982}, {\"k\": 3, \"p\": 4, \"MR\": 0.0094957224693188, \"cohort\": 1982}, {\"k\": 4, \"p\": 4, \"MR\": 0.019282911575161103, \"cohort\": 1982}, {\"k\": 5, \"p\": 4, \"MR\": 0.08088072784681889, \"cohort\": 1982}, {\"k\": 1, \"p\": 5, \"MR\": 0.02283913399472664, \"cohort\": 1982}, {\"k\": 2, \"p\": 5, \"MR\": 0.03397130488031, \"cohort\": 1982}, {\"k\": 3, \"p\": 5, \"MR\": 0.05532801338945244, \"cohort\": 1982}, {\"k\": 4, \"p\": 5, \"MR\": 0.089567583917118, \"cohort\": 1982}, {\"k\": 5, \"p\": 5, \"MR\": 0.42064827344684425, \"cohort\": 1982}]}}, {\"mode\": \"vega-lite\"});\n</script>",
      "text/plain": [
       "alt.Chart(...)"
      ]
     },
     "metadata": {},
     "execution_count": 13
    }
   ],
   "source": [
    "k_mag_1 = alt.Chart(source).mark_bar().encode(\n",
    "    column = 'cohort',\n",
    "    x = alt.X(\"k:O\"),\n",
    "    y = alt.Y('sum(MR):Q', scale=alt.Scale(domain=(0,1))),\n",
    "    color = alt.Color('p:O', scale=alt.Scale(scheme=\"tableau10\"))\n",
    "    )\n",
    "\n",
    "k_mag_1 "
   ]
  },
  {
   "cell_type": "code",
   "execution_count": 14,
   "metadata": {},
   "outputs": [
    {
     "output_type": "execute_result",
     "data": {
      "text/html": "\n<div id=\"altair-viz-0a8845b4c77244c0a426b523120675ed\"></div>\n<script type=\"text/javascript\">\n  (function(spec, embedOpt){\n    let outputDiv = document.currentScript.previousElementSibling;\n    if (outputDiv.id !== \"altair-viz-0a8845b4c77244c0a426b523120675ed\") {\n      outputDiv = document.getElementById(\"altair-viz-0a8845b4c77244c0a426b523120675ed\");\n    }\n    const paths = {\n      \"vega\": \"https://cdn.jsdelivr.net/npm//vega@5?noext\",\n      \"vega-lib\": \"https://cdn.jsdelivr.net/npm//vega-lib?noext\",\n      \"vega-lite\": \"https://cdn.jsdelivr.net/npm//vega-lite@4.8.1?noext\",\n      \"vega-embed\": \"https://cdn.jsdelivr.net/npm//vega-embed@6?noext\",\n    };\n\n    function loadScript(lib) {\n      return new Promise(function(resolve, reject) {\n        var s = document.createElement('script');\n        s.src = paths[lib];\n        s.async = true;\n        s.onload = () => resolve(paths[lib]);\n        s.onerror = () => reject(`Error loading script: ${paths[lib]}`);\n        document.getElementsByTagName(\"head\")[0].appendChild(s);\n      });\n    }\n\n    function showError(err) {\n      outputDiv.innerHTML = `<div class=\"error\" style=\"color:red;\">${err}</div>`;\n      throw err;\n    }\n\n    function displayChart(vegaEmbed) {\n      vegaEmbed(outputDiv, spec, embedOpt)\n        .catch(err => showError(`Javascript Error: ${err.message}<br>This usually means there's a typo in your chart specification. See the javascript console for the full traceback.`));\n    }\n\n    if(typeof define === \"function\" && define.amd) {\n      requirejs.config({paths});\n      require([\"vega-embed\"], displayChart, err => showError(`Error loading script: ${err.message}`));\n    } else if (typeof vegaEmbed === \"function\") {\n      displayChart(vegaEmbed);\n    } else {\n      loadScript(\"vega\")\n        .then(() => loadScript(\"vega-lite\"))\n        .then(() => loadScript(\"vega-embed\"))\n        .catch(showError)\n        .then(() => displayChart(vegaEmbed));\n    }\n  })({\"config\": {\"view\": {\"continuousWidth\": 400, \"continuousHeight\": 300}}, \"data\": {\"name\": \"data-4fc4c26f76eee94bfb2c45aede6c6bcc\"}, \"mark\": \"rect\", \"encoding\": {\"color\": {\"type\": \"quantitative\", \"field\": \"MR\", \"scale\": {\"exponent\": 0.5, \"nice\": true, \"scheme\": \"greens\", \"type\": \"pow\"}}, \"column\": {\"type\": \"ordinal\", \"field\": \"cohort\"}, \"x\": {\"type\": \"ordinal\", \"field\": \"p\"}, \"y\": {\"type\": \"ordinal\", \"field\": \"k\", \"sort\": {\"field\": \"k\", \"order\": \"descending\"}}}, \"$schema\": \"https://vega.github.io/schema/vega-lite/v4.8.1.json\", \"datasets\": {\"data-4fc4c26f76eee94bfb2c45aede6c6bcc\": [{\"k\": 1, \"p\": 1, \"MR\": 0.004341502396137, \"cohort\": 1982}, {\"k\": 2, \"p\": 1, \"MR\": 0.00653028320385, \"cohort\": 1982}, {\"k\": 3, \"p\": 1, \"MR\": 0.008649408620279284, \"cohort\": 1982}, {\"k\": 4, \"p\": 1, \"MR\": 0.015070188771721001, \"cohort\": 1982}, {\"k\": 5, \"p\": 1, \"MR\": 0.05026056546585789, \"cohort\": 1982}, {\"k\": 1, \"p\": 2, \"MR\": 0.00347937190204656, \"cohort\": 1982}, {\"k\": 2, \"p\": 2, \"MR\": 0.006517197611526, \"cohort\": 1982}, {\"k\": 3, \"p\": 2, \"MR\": 0.011608381276127221, \"cohort\": 1982}, {\"k\": 4, \"p\": 2, \"MR\": 0.012992944206503413, \"cohort\": 1982}, {\"k\": 5, \"p\": 2, \"MR\": 0.03870975868559943, \"cohort\": 1982}, {\"k\": 1, \"p\": 3, \"MR\": 0.001256013344054832, \"cohort\": 1982}, {\"k\": 2, \"p\": 3, \"MR\": 0.013476356482084999, \"cohort\": 1982}, {\"k\": 3, \"p\": 3, \"MR\": 0.006236492879550181, \"cohort\": 1982}, {\"k\": 4, \"p\": 3, \"MR\": 0.00890240940356211, \"cohort\": 1982}, {\"k\": 5, \"p\": 3, \"MR\": 0.061413328047768834, \"cohort\": 1982}, {\"k\": 1, \"p\": 4, \"MR\": 0.007493696018243039, \"cohort\": 1982}, {\"k\": 2, \"p\": 4, \"MR\": 0.011048361828664999, \"cohort\": 1982}, {\"k\": 3, \"p\": 4, \"MR\": 0.0094957224693188, \"cohort\": 1982}, {\"k\": 4, \"p\": 4, \"MR\": 0.019282911575161103, \"cohort\": 1982}, {\"k\": 5, \"p\": 4, \"MR\": 0.08088072784681889, \"cohort\": 1982}, {\"k\": 1, \"p\": 5, \"MR\": 0.02283913399472664, \"cohort\": 1982}, {\"k\": 2, \"p\": 5, \"MR\": 0.03397130488031, \"cohort\": 1982}, {\"k\": 3, \"p\": 5, \"MR\": 0.05532801338945244, \"cohort\": 1982}, {\"k\": 4, \"p\": 5, \"MR\": 0.089567583917118, \"cohort\": 1982}, {\"k\": 5, \"p\": 5, \"MR\": 0.42064827344684425, \"cohort\": 1982}]}}, {\"mode\": \"vega-lite\"});\n</script>",
      "text/plain": [
       "alt.Chart(...)"
      ]
     },
     "metadata": {},
     "execution_count": 14
    }
   ],
   "source": [
    "\n",
    "plot_scale = alt.Scale(type=\"pow\", exponent=0.5, scheme = \"greens\", nice = True)\n",
    "color = alt.Color('MR:Q', scale = plot_scale)\n",
    "\n",
    "chart = alt.Chart(source).mark_rect().encode(\n",
    "        column = \"cohort:O\",\n",
    "        x='p:O',\n",
    "        y=alt.Y('k:O',\n",
    "        sort=alt.EncodingSortField('k', order='descending')),\n",
    "        color=color\n",
    "    )\n",
    "    \n",
    "k_mag = alt.Chart(source1).mark_bar().encode(\n",
    "    column = \"cohort:O\",\n",
    "    x = alt.X(\"k:O\"),\n",
    "    y = alt.Y(\n",
    "        \"Mag_k:Q\", scale=alt.Scale(domain=(0,1))\n",
    "        )\n",
    "    )\n",
    "\n",
    "p_mag = alt.Chart(source1).mark_bar().encode(\n",
    "    column = \"cohort:O\",\n",
    "    x = \"p:O\",\n",
    "    y = alt.Y(\n",
    "        \"Mag_p:Q\", scale=alt.Scale(domain=(0,1))\n",
    "        )\n",
    "    )\n",
    "\n",
    "\n",
    "chart"
   ]
  },
  {
   "cell_type": "code",
   "execution_count": 15,
   "metadata": {},
   "outputs": [
    {
     "output_type": "execute_result",
     "data": {
      "text/html": "\n<div id=\"altair-viz-b052c1bf6c9243728e4b13dfd178ec55\"></div>\n<script type=\"text/javascript\">\n  (function(spec, embedOpt){\n    let outputDiv = document.currentScript.previousElementSibling;\n    if (outputDiv.id !== \"altair-viz-b052c1bf6c9243728e4b13dfd178ec55\") {\n      outputDiv = document.getElementById(\"altair-viz-b052c1bf6c9243728e4b13dfd178ec55\");\n    }\n    const paths = {\n      \"vega\": \"https://cdn.jsdelivr.net/npm//vega@5?noext\",\n      \"vega-lib\": \"https://cdn.jsdelivr.net/npm//vega-lib?noext\",\n      \"vega-lite\": \"https://cdn.jsdelivr.net/npm//vega-lite@4.8.1?noext\",\n      \"vega-embed\": \"https://cdn.jsdelivr.net/npm//vega-embed@6?noext\",\n    };\n\n    function loadScript(lib) {\n      return new Promise(function(resolve, reject) {\n        var s = document.createElement('script');\n        s.src = paths[lib];\n        s.async = true;\n        s.onload = () => resolve(paths[lib]);\n        s.onerror = () => reject(`Error loading script: ${paths[lib]}`);\n        document.getElementsByTagName(\"head\")[0].appendChild(s);\n      });\n    }\n\n    function showError(err) {\n      outputDiv.innerHTML = `<div class=\"error\" style=\"color:red;\">${err}</div>`;\n      throw err;\n    }\n\n    function displayChart(vegaEmbed) {\n      vegaEmbed(outputDiv, spec, embedOpt)\n        .catch(err => showError(`Javascript Error: ${err.message}<br>This usually means there's a typo in your chart specification. See the javascript console for the full traceback.`));\n    }\n\n    if(typeof define === \"function\" && define.amd) {\n      requirejs.config({paths});\n      require([\"vega-embed\"], displayChart, err => showError(`Error loading script: ${err.message}`));\n    } else if (typeof vegaEmbed === \"function\") {\n      displayChart(vegaEmbed);\n    } else {\n      loadScript(\"vega\")\n        .then(() => loadScript(\"vega-lite\"))\n        .then(() => loadScript(\"vega-embed\"))\n        .catch(showError)\n        .then(() => displayChart(vegaEmbed));\n    }\n  })({\"config\": {\"view\": {\"continuousWidth\": 400, \"continuousHeight\": 300}}, \"data\": {\"name\": \"data-413b3042246abfccf6f327880e7101a3\"}, \"mark\": \"bar\", \"encoding\": {\"column\": {\"type\": \"ordinal\", \"field\": \"cohort\"}, \"x\": {\"type\": \"ordinal\", \"field\": \"p\"}, \"y\": {\"type\": \"quantitative\", \"field\": \"Mag_p\", \"scale\": {\"domain\": [0, 1]}}}, \"$schema\": \"https://vega.github.io/schema/vega-lite/v4.8.1.json\", \"datasets\": {\"data-413b3042246abfccf6f327880e7101a3\": [{\"k\": 1, \"Mag_k\": 0.08485194845784517, \"p\": 1, \"Mag_p\": 0.039409717655208065, \"cohort\": 1982}, {\"k\": 2, \"Mag_k\": 0.07330765368180261, \"p\": 2, \"Mag_p\": 0.071543504006436, \"cohort\": 1982}, {\"k\": 3, \"Mag_k\": 0.09128460015702096, \"p\": 3, \"Mag_p\": 0.09131801863472792, \"cohort\": 1982}, {\"k\": 4, \"Mag_k\": 0.12820141973820684, \"p\": 4, \"Mag_p\": 0.1458160378740656, \"cohort\": 1982}, {\"k\": 5, \"Mag_k\": 0.6223543096284513, \"p\": 5, \"Mag_p\": 0.6519126534928893, \"cohort\": 1982}]}}, {\"mode\": \"vega-lite\"});\n</script>",
      "text/plain": [
       "alt.Chart(...)"
      ]
     },
     "metadata": {},
     "execution_count": 15
    }
   ],
   "source": [
    "p_mag"
   ]
  },
  {
   "cell_type": "code",
   "execution_count": 16,
   "metadata": {},
   "outputs": [
    {
     "output_type": "execute_result",
     "data": {
      "text/html": "\n<div id=\"altair-viz-61f73bffdba2492b9608a87bcf2482d6\"></div>\n<script type=\"text/javascript\">\n  (function(spec, embedOpt){\n    let outputDiv = document.currentScript.previousElementSibling;\n    if (outputDiv.id !== \"altair-viz-61f73bffdba2492b9608a87bcf2482d6\") {\n      outputDiv = document.getElementById(\"altair-viz-61f73bffdba2492b9608a87bcf2482d6\");\n    }\n    const paths = {\n      \"vega\": \"https://cdn.jsdelivr.net/npm//vega@5?noext\",\n      \"vega-lib\": \"https://cdn.jsdelivr.net/npm//vega-lib?noext\",\n      \"vega-lite\": \"https://cdn.jsdelivr.net/npm//vega-lite@4.8.1?noext\",\n      \"vega-embed\": \"https://cdn.jsdelivr.net/npm//vega-embed@6?noext\",\n    };\n\n    function loadScript(lib) {\n      return new Promise(function(resolve, reject) {\n        var s = document.createElement('script');\n        s.src = paths[lib];\n        s.async = true;\n        s.onload = () => resolve(paths[lib]);\n        s.onerror = () => reject(`Error loading script: ${paths[lib]}`);\n        document.getElementsByTagName(\"head\")[0].appendChild(s);\n      });\n    }\n\n    function showError(err) {\n      outputDiv.innerHTML = `<div class=\"error\" style=\"color:red;\">${err}</div>`;\n      throw err;\n    }\n\n    function displayChart(vegaEmbed) {\n      vegaEmbed(outputDiv, spec, embedOpt)\n        .catch(err => showError(`Javascript Error: ${err.message}<br>This usually means there's a typo in your chart specification. See the javascript console for the full traceback.`));\n    }\n\n    if(typeof define === \"function\" && define.amd) {\n      requirejs.config({paths});\n      require([\"vega-embed\"], displayChart, err => showError(`Error loading script: ${err.message}`));\n    } else if (typeof vegaEmbed === \"function\") {\n      displayChart(vegaEmbed);\n    } else {\n      loadScript(\"vega\")\n        .then(() => loadScript(\"vega-lite\"))\n        .then(() => loadScript(\"vega-embed\"))\n        .catch(showError)\n        .then(() => displayChart(vegaEmbed));\n    }\n  })({\"config\": {\"view\": {\"continuousWidth\": 400, \"continuousHeight\": 300}}, \"data\": {\"name\": \"data-413b3042246abfccf6f327880e7101a3\"}, \"mark\": \"bar\", \"encoding\": {\"column\": {\"type\": \"ordinal\", \"field\": \"cohort\"}, \"x\": {\"type\": \"ordinal\", \"field\": \"k\"}, \"y\": {\"type\": \"quantitative\", \"field\": \"Mag_k\", \"scale\": {\"domain\": [0, 1]}}}, \"$schema\": \"https://vega.github.io/schema/vega-lite/v4.8.1.json\", \"datasets\": {\"data-413b3042246abfccf6f327880e7101a3\": [{\"k\": 1, \"Mag_k\": 0.08485194845784517, \"p\": 1, \"Mag_p\": 0.039409717655208065, \"cohort\": 1982}, {\"k\": 2, \"Mag_k\": 0.07330765368180261, \"p\": 2, \"Mag_p\": 0.071543504006436, \"cohort\": 1982}, {\"k\": 3, \"Mag_k\": 0.09128460015702096, \"p\": 3, \"Mag_p\": 0.09131801863472792, \"cohort\": 1982}, {\"k\": 4, \"Mag_k\": 0.12820141973820684, \"p\": 4, \"Mag_p\": 0.1458160378740656, \"cohort\": 1982}, {\"k\": 5, \"Mag_k\": 0.6223543096284513, \"p\": 5, \"Mag_p\": 0.6519126534928893, \"cohort\": 1982}]}}, {\"mode\": \"vega-lite\"});\n</script>",
      "text/plain": [
       "alt.Chart(...)"
      ]
     },
     "metadata": {},
     "execution_count": 16
    }
   ],
   "source": [
    "k_mag"
   ]
  },
  {
   "cell_type": "code",
   "execution_count": null,
   "metadata": {},
   "outputs": [],
   "source": []
  },
  {
   "cell_type": "code",
   "execution_count": null,
   "metadata": {},
   "outputs": [],
   "source": []
  },
  {
   "cell_type": "code",
   "execution_count": null,
   "metadata": {},
   "outputs": [],
   "source": [
    "# chart_list = list()\n",
    "# chart_list.append(df_cmu1.apply(data_plot, axis = 1))\n",
    "\n",
    "# chart_list = np.array(chart_list).flatten()\n",
    "\n",
    "# # alt.renderers.enable('notebook')\n",
    "\n"
   ]
  },
  {
   "cell_type": "code",
   "execution_count": null,
   "metadata": {},
   "outputs": [],
   "source": [
    "# rtemp = r1[\"MR\"].ravel()\n",
    "\n",
    "# # col = pd.MultiIndex.from_product([\"k\",\"p\",\"MR\"])\n",
    "# col = [\"k\",\"p\",\"MR\", \"cohort\"]\n",
    "# plot_df = pd.DataFrame({\"k\":k.ravel(), \"p\":p.ravel(), \"MR\":rtemp, \"cohort\":r1[\"cohort\"]})\n",
    "# plot_df\n"
   ]
  },
  {
   "cell_type": "code",
   "execution_count": null,
   "metadata": {},
   "outputs": [],
   "source": [
    "# alt.Chart(plot_df).mark_rect().encode(\n",
    "#     column = \"cohort:O\",\n",
    "#     x='p:O',\n",
    "#     y=alt.Y('k:O',\n",
    "#       sort=alt.EncodingSortField('k', order='descending')),  \n",
    "#     color=\"MR:Q\"\n",
    "\n",
    "# )\n",
    "\n",
    "\n"
   ]
  },
  {
   "cell_type": "code",
   "execution_count": null,
   "metadata": {},
   "outputs": [],
   "source": [
    "\n",
    "\n",
    "# MR.index = date.values\n",
    "\n",
    "# df_plot1 = pd.DataFrame(MR)\n",
    "\n",
    "# k_p = pd.DataFrame({'k':k.ravel(),'p':p.ravel()})\n",
    "\n",
    "# df_MR = pd.DataFrame(MR)\n",
    "# # df_MR = df_MR.explode('MR')\n",
    "# # df_MR.index.name = \"cohort\"\n",
    "# # df_MR.melt(var_name=\"cohort\")\n",
    "# pd.DataFrame(data=MR.values, columns=MR.index)\n"
   ]
  },
  {
   "cell_type": "code",
   "execution_count": null,
   "metadata": {},
   "outputs": [],
   "source": [
    "# # Mobility_rate = (Mobility_rate[1:2,:5])\n",
    "\n",
    "\n",
    "# s = (Mobility_rate).shape\n",
    "\n",
    "# k, p = np.meshgrid(range(1,s[0]+1), range(1,s[1]+1))        \n",
    "# print(Mobility_rate)\n",
    "\n",
    "# source = pd.DataFrame({'k': k.ravel(),'p':p.ravel(),'MR':Mobility_rate.ravel()})\n",
    "\n",
    "# alt.Chart(source).mark_rect().encode(\n",
    "#     x='p:O',\n",
    "#     y=alt.Y('k:O',\n",
    "#       sort=alt.EncodingSortField('k', order='descending')),  \n",
    "#     color ='MR:Q'\n",
    "# )\n",
    "\n"
   ]
  },
  {
   "cell_type": "code",
   "execution_count": null,
   "metadata": {},
   "outputs": [],
   "source": [
    "# https://stackoverflow.com/questions/11409690/plotting-a-2d-array-with-mplot3d"
   ]
  },
  {
   "cell_type": "code",
   "execution_count": null,
   "metadata": {},
   "outputs": [],
   "source": [
    "# # setup the figure and axes\n",
    "# fig = plt.figure(figsize=(8, 3))\n",
    "# ax1 = fig.add_subplot(121, projection='3d')\n",
    "\n",
    "\n",
    "# # fake data\n",
    "\n",
    "# x, y = p.ravel(), k.ravel()\n",
    "# z = np.zeros(25)\n",
    "# dx = z+1\n",
    "# dy = z+1\n",
    "# dz = Mobility_rate.ravel()\n",
    "\n",
    "\n",
    "# ax1.bar3d(x, y, z, dx, dy, dz, shade=True)\n",
    "# ax1.set_title('')\n",
    "\n",
    "\n",
    "# plt.show()"
   ]
  },
  {
   "cell_type": "code",
   "execution_count": null,
   "metadata": {},
   "outputs": [],
   "source": [
    "# c1 = Correlation(Mobility_rate)\n",
    "# c2 = Correlation(Mobility_rate[:1,:5])\n",
    "\n",
    "# print(c1[0])\n",
    "# print()\n",
    "# print(c1[1])\n",
    "# print()\n",
    "# print(c2[0])\n",
    "# print()\n",
    "# print(c2[1])\n",
    "# print(Mobility_rate)\n",
    "# print()\n",
    "# print(Mag_dis(Mobility_rate))"
   ]
  },
  {
   "cell_type": "code",
   "execution_count": null,
   "metadata": {
    "tags": []
   },
   "outputs": [],
   "source": [
    "# # k is row, p is col\n",
    "# df_cmu = df2.loc[df2['name'] == \"Carnegie Mellon University\"]\n",
    "\n",
    "# Mobility_rate = np.zeros([5,5])\n",
    "\n",
    "# for p in range(0,5):\n",
    "#     for k in range(0,5):\n",
    "#         cond_str = \"kq{}_cond_parq{}\".format(k+1,p+1)\n",
    "#         par_str = \"par_q{}\".format(p+1)\n",
    "#         MR_temp = (df_cmu[par_str]*df_cmu[cond_str]).to_numpy()\n",
    "#         print(par_str)\n",
    "#         Mobility_rate[k,p] = MR_temp\n",
    "#         print(Mobility_rate)\n",
    "    \n",
    "\n"
   ]
  },
  {
   "cell_type": "code",
   "execution_count": null,
   "metadata": {},
   "outputs": [],
   "source": [
    "# df_cmu = university_df(df3, \"Carnegie Mellon University\")\n",
    "\n",
    "# (df_cmu.iloc[0])[\"par_q1\"]\n"
   ]
  },
  {
   "cell_type": "code",
   "execution_count": null,
   "metadata": {},
   "outputs": [],
   "source": []
  }
 ]
}